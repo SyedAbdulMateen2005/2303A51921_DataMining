{
  "nbformat": 4,
  "nbformat_minor": 0,
  "metadata": {
    "colab": {
      "provenance": [],
      "authorship_tag": "ABX9TyNZ/nL9mqjDv4iWgjEOhrAx",
      "include_colab_link": true
    },
    "kernelspec": {
      "name": "python3",
      "display_name": "Python 3"
    },
    "language_info": {
      "name": "python"
    }
  },
  "cells": [
    {
      "cell_type": "markdown",
      "metadata": {
        "id": "view-in-github",
        "colab_type": "text"
      },
      "source": [
        "<a href=\"https://colab.research.google.com/github/SyedAbdulMateen2005/2303A51921_DataMining/blob/main/Assignment1.ipynb\" target=\"_parent\"><img src=\"https://colab.research.google.com/assets/colab-badge.svg\" alt=\"Open In Colab\"/></a>"
      ]
    },
    {
      "cell_type": "code",
      "execution_count": 21,
      "metadata": {
        "colab": {
          "base_uri": "https://localhost:8080/"
        },
        "id": "4OEGlUd9zjPG",
        "outputId": "4989be7b-58f9-4a6c-e241-df0ef817df43"
      },
      "outputs": [
        {
          "output_type": "stream",
          "name": "stdout",
          "text": [
            "      id               name               nationality                 city  \\\n",
            "0      0          Kiana Lor                     China               Suzhou   \n",
            "1      1     Joshua Lonaker  United States of America        Santa Clarita   \n",
            "2      2      Dakota Blanco  United States of America              Oakland   \n",
            "3      3    Natasha Yarusso  United States of America        Castro Valley   \n",
            "4      4     Brooke Cazares                    Brazil  São José dos Campos   \n",
            "..   ...                ...                       ...                  ...   \n",
            "302  302        Austin Haas  United States of America             Columbus   \n",
            "303  303    Madison Fithian  United States of America          Los Angeles   \n",
            "304  304  Zachary Mulvahill  United States of America          Los Angeles   \n",
            "305  305   Eliana Michelsen  United States of America              Oakland   \n",
            "306  306    Dane Whittemore                    Canada              Toronto   \n",
            "\n",
            "     latitude  longitude gender  age  english.grade  math.grade  \\\n",
            "0       31.31     120.62      F   22            3.5         3.7   \n",
            "1       34.39    -118.54      M   22            2.9         3.2   \n",
            "2       37.80    -122.27      F   22            3.9         3.8   \n",
            "3       37.69    -122.09      F   20            3.3         2.8   \n",
            "4      -23.18     -45.88      F   21            3.7         2.6   \n",
            "..        ...        ...    ...  ...            ...         ...   \n",
            "302     39.96     -83.00      M   20            3.6         3.7   \n",
            "303     34.05    -118.24      F   20            3.6         3.9   \n",
            "304     34.05    -118.24      M   20            3.2         3.4   \n",
            "305     37.80    -122.27      F   23            3.0         2.8   \n",
            "306     43.67     -79.42      M   21            3.8         3.2   \n",
            "\n",
            "     sciences.grade  language.grade  portfolio.rating  coverletter.rating  \\\n",
            "0               3.1             1.0                 4                 4.0   \n",
            "1               3.6             5.0                 5                 4.0   \n",
            "2               3.2             5.0                 3                 3.0   \n",
            "3               NaN             5.0                 5                 2.0   \n",
            "4               3.4             1.0                 4                 4.0   \n",
            "..              ...             ...               ...                 ...   \n",
            "302             3.1             5.0                 4                 5.0   \n",
            "303             4.0             5.0                 5                 5.0   \n",
            "304             3.9             5.0                 5                 5.0   \n",
            "305             2.9             5.0                 4                 4.0   \n",
            "306             4.0             5.0                 5                 4.0   \n",
            "\n",
            "     refletter.rating  \n",
            "0                   4  \n",
            "1                   5  \n",
            "2                   4  \n",
            "3                   4  \n",
            "4                   5  \n",
            "..                ...  \n",
            "302                 5  \n",
            "303                 3  \n",
            "304                 3  \n",
            "305                 5  \n",
            "306                 5  \n",
            "\n",
            "[307 rows x 15 columns]\n"
          ]
        }
      ],
      "source": [
        "import pandas as pd\n",
        "df=pd.read_csv(\"/content/student-dataset (1).csv\")\n",
        "df[\"sciences.grade\"].fillna(df[\"sciences.grade\"].median())\n",
        "min=df[\"sciences.grade\"].min();\n",
        "max=df[\"sciences.grade\"].max();\n",
        "df[\"sciences.grade\"]=(df[\"sciences.grade\"]-min)/(max-min);\n",
        "print(df[\"sciences.grade\"])\n"
      ]
    }
  ]
}